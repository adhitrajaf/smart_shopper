{
 "cells": [
  {
   "cell_type": "markdown",
   "id": "9e2418f5",
   "metadata": {},
   "source": [
    "## Import Libraries\n"
   ]
  },
  {
   "cell_type": "code",
   "execution_count": 1,
   "id": "eb17e1f4",
   "metadata": {},
   "outputs": [
    {
     "name": "stderr",
     "output_type": "stream",
     "text": [
      "c:\\Users\\LENOVO\\anaconda3\\envs\\smartshopper\\lib\\site-packages\\tqdm\\auto.py:21: TqdmWarning: IProgress not found. Please update jupyter and ipywidgets. See https://ipywidgets.readthedocs.io/en/stable/user_install.html\n",
      "  from .autonotebook import tqdm as notebook_tqdm\n"
     ]
    }
   ],
   "source": [
    "import os\n",
    "import warnings\n",
    "from dotenv import load_dotenv\n",
    "from typing import List\n",
    "\n",
    "# Haystack Imports\n",
    "from haystack import Pipeline, component\n",
    "from haystack.components.embedders import SentenceTransformersTextEmbedder\n",
    "from haystack.components.builders import ChatPromptBuilder\n",
    "from haystack.dataclasses import ChatMessage\n",
    "\n",
    "# Haystack-MongoDB Integration Imports\n",
    "from haystack_integrations.document_stores.mongodb_atlas import MongoDBAtlasDocumentStore\n",
    "from haystack_integrations.components.retrievers.mongodb_atlas import MongoDBAtlasEmbeddingRetriever\n",
    "\n",
    "# Groq Import\n",
    "from groq import Groq\n",
    "\n",
    "warnings.filterwarnings(\"ignore\", category=UserWarning, message=\"The instance of ChatPromptBuilder is not serializable.\")"
   ]
  },
  {
   "cell_type": "code",
   "execution_count": 2,
   "id": "ecfbee35",
   "metadata": {},
   "outputs": [
    {
     "data": {
      "text/plain": [
       "True"
      ]
     },
     "execution_count": 2,
     "metadata": {},
     "output_type": "execute_result"
    }
   ],
   "source": [
    "load_dotenv()"
   ]
  },
  {
   "cell_type": "markdown",
   "id": "3ae1aafb",
   "metadata": {},
   "source": [
    "## Custom Groq Generator Classes"
   ]
  },
  {
   "cell_type": "code",
   "execution_count": null,
   "id": "5ba4a0b5",
   "metadata": {},
   "outputs": [],
   "source": [
    "@component\n",
    "class GroqChatGenerator:\n",
    "    def __init__(self, model: str = \"llama3-70b-8192\", api_key: str = None): # type: ignore\n",
    "        \"\"\"\n",
    "        Initializes the GroqChatGenerator.\n",
    "        The default model has been updated to a current, active model.\n",
    "        \"\"\"\n",
    "        self.client = Groq(api_key=api_key or os.environ.get(\"GROQ_API_KEY\"))\n",
    "        self.model = model\n",
    "    \n",
    "    @component.output_types(replies=List[ChatMessage])\n",
    "    def run(self, messages: List[ChatMessage]):\n",
    "        if not messages:\n",
    "            raise ValueError(\"The 'messages' list received by GroqChatGenerator is empty.\")\n",
    "\n",
    "        groq_messages = []\n",
    "        for msg in messages:\n",
    "            content = \"\"\n",
    "            if hasattr(msg, 'content'):\n",
    "                content = msg.content\n",
    "            elif hasattr(msg, 'text'):\n",
    "                content = msg.text\n",
    "\n",
    "            if content and hasattr(msg, 'role'):\n",
    "                role = msg.role.value if hasattr(msg.role, 'value') else str(msg.role)\n",
    "                groq_messages.append({\"role\": role.lower(), \"content\": content})\n",
    "\n",
    "        if not groq_messages:\n",
    "            raise ValueError(\n",
    "                \"The 'groq_messages' list is empty after conversion. \"\n",
    "                \"The ChatMessage objects seem to be malformed (missing .role or .content/.text).\"\n",
    "            )\n",
    "\n",
    "        response = self.client.chat.completions.create(\n",
    "            model=self.model,\n",
    "            messages=groq_messages,\n",
    "            temperature=0.7,\n",
    "            max_tokens=1000\n",
    "        )\n",
    "        \n",
    "        return {\n",
    "            \"replies\": [\n",
    "                ChatMessage.from_assistant(response.choices[0].message.content)\n",
    "            ]\n",
    "        }"
   ]
  },
  {
   "cell_type": "markdown",
   "id": "ba7cd5ef",
   "metadata": {},
   "source": [
    "## Setup Document Stores\n"
   ]
  },
  {
   "cell_type": "code",
   "execution_count": 4,
   "id": "fc67d0e3",
   "metadata": {},
   "outputs": [],
   "source": [
    "products_document_store = MongoDBAtlasDocumentStore(\n",
    "    database_name=\"smartshopper_store\",\n",
    "    collection_name=\"products\",\n",
    "    vector_search_index=\"vector_index\",\n",
    "    full_text_search_index=\"search_index\",\n",
    ")\n",
    "\n",
    "common_info_document_store = MongoDBAtlasDocumentStore(\n",
    "    database_name=\"smartshopper_store\",\n",
    "    collection_name=\"common_info\", \n",
    "    vector_search_index=\"common_info_vector_index\",\n",
    "    full_text_search_index=\"common_info_search_index\",\n",
    ")"
   ]
  },
  {
   "cell_type": "markdown",
   "id": "2eebe73d",
   "metadata": {},
   "source": [
    "## Test Product Recommendation Generation\n"
   ]
  },
  {
   "cell_type": "code",
   "execution_count": 5,
   "id": "ff64dcdb",
   "metadata": {},
   "outputs": [],
   "source": [
    "product_messages = [\n",
    "    ChatMessage.from_system(\"You are a helpful shop assistant that provides product recommendations.\"),\n",
    "    ChatMessage.from_user(\n",
    "        \"\"\"\n",
    "        Your task is to generate a list of products that best match the query based on the available products.\n",
    "        The output should be in the following format:\n",
    "        **Summary:** <brief summary of what user is looking for>\n",
    "        **Recommended Products:**\n",
    "        1. **<product_name>** - Price: Rp <product_price> - Material: <product_material> - Category: <product_category> - Brand: <product_brand> - Why recommended: <explanation based on the product description>\n",
    "\n",
    "        Query: {{query}}\n",
    "        {% if documents|length > 0 %}\n",
    "        Available products:\n",
    "        {% for product in documents %}\n",
    "        - Product: {{ product.meta.title }}, Price: Rp {{ product.meta.price }}, Material: {{ product.meta.material }}, Category: {{ product.meta.category }}, Brand: {{ product.meta.brand }}, Description: {{ product.content }}\n",
    "        {% endfor %}\n",
    "        {% else %}\n",
    "        No matching products found.\n",
    "        {% endif %}\n",
    "        \"\"\"\n",
    "    )\n",
    "]"
   ]
  },
  {
   "cell_type": "markdown",
   "id": "4182a564",
   "metadata": {},
   "source": [
    "### Create Product RAG Pipeline\n"
   ]
  },
  {
   "cell_type": "code",
   "execution_count": 6,
   "id": "a109ace9",
   "metadata": {},
   "outputs": [
    {
     "name": "stderr",
     "output_type": "stream",
     "text": [
      "ChatPromptBuilder has 2 prompt variables, but `required_variables` is not set. By default, all prompt variables are treated as optional, which may lead to unintended behavior in multi-branch pipelines. To avoid unexpected execution, ensure that variables intended to be required are explicitly set in `required_variables`.\n"
     ]
    },
    {
     "data": {
      "text/plain": [
       "<haystack.core.pipeline.pipeline.Pipeline object at 0x0000026C4FEA52A0>\n",
       "🚅 Components\n",
       "  - embedder: SentenceTransformersTextEmbedder\n",
       "  - retriever: MongoDBAtlasEmbeddingRetriever\n",
       "  - prompt_builder: ChatPromptBuilder\n",
       "  - generator: GroqChatGenerator\n",
       "🛤️ Connections\n",
       "  - embedder.embedding -> retriever.query_embedding (List[float])\n",
       "  - retriever.documents -> prompt_builder.documents (List[Document])\n",
       "  - prompt_builder.prompt -> generator.messages (List[ChatMessage])"
      ]
     },
     "execution_count": 6,
     "metadata": {},
     "output_type": "execute_result"
    }
   ],
   "source": [
    "product_rag_pipeline = Pipeline()\n",
    "product_rag_pipeline.add_component(\"embedder\", SentenceTransformersTextEmbedder())\n",
    "product_rag_pipeline.add_component(\"retriever\", MongoDBAtlasEmbeddingRetriever(document_store=products_document_store, top_k=5))\n",
    "product_rag_pipeline.add_component(\"prompt_builder\", ChatPromptBuilder(template=product_messages))\n",
    "product_rag_pipeline.add_component(\"generator\", GroqChatGenerator())\n",
    "\n",
    "product_rag_pipeline.connect(\"embedder.embedding\", \"retriever.query_embedding\")\n",
    "product_rag_pipeline.connect(\"retriever.documents\", \"prompt_builder.documents\")\n",
    "product_rag_pipeline.connect(\"prompt_builder.prompt\", \"generator.messages\")"
   ]
  },
  {
   "cell_type": "code",
   "execution_count": 7,
   "id": "1d0177f0",
   "metadata": {},
   "outputs": [
    {
     "name": "stdout",
     "output_type": "stream",
     "text": [
      "=== PRODUCT RECOMMENDATION TESTS ===\n",
      "\n",
      "Query: 'I need a smartphone for photography'\n",
      "--------------------------------------------------\n"
     ]
    },
    {
     "name": "stderr",
     "output_type": "stream",
     "text": [
      "Batches: 100%|██████████| 1/1 [00:00<00:00,  8.52it/s]\n"
     ]
    },
    {
     "name": "stdout",
     "output_type": "stream",
     "text": [
      "**Summary:** The user is looking for a smartphone specifically designed for photography.\n",
      "\n",
      "**Recommended Products:**\n",
      "1. **Samsung Galaxy S24** - Price: Rp 15000000 - Material: Glass - Category: Electronics - Brand: Samsung - Why recommended: This smartphone is recommended because it has advanced camera and AI features, making it perfect for photography enthusiasts.\n",
      "\n",
      "Query: 'Looking for comfortable shoes for running'\n",
      "--------------------------------------------------\n"
     ]
    },
    {
     "name": "stderr",
     "output_type": "stream",
     "text": [
      "Batches: 100%|██████████| 1/1 [00:00<00:00, 17.49it/s]\n"
     ]
    },
    {
     "name": "stdout",
     "output_type": "stream",
     "text": [
      "**Summary:** The user is looking for comfortable shoes specifically designed for running.\n",
      "\n",
      "**Recommended Products:**\n",
      "1. **Nike Air Max 270** - Price: Rp 2500000 - Material: Synthetic - Category: Shoes - Brand: Nike - Why recommended: This shoe is specifically designed for running with excellent cushioning and a modern design, making it an ideal choice for runners who prioritize comfort.\n"
     ]
    }
   ],
   "source": [
    "print(\"=== PRODUCT RECOMMENDATION TESTS ===\")\n",
    "product_test_queries = [\n",
    "    \"I need a smartphone for photography\",\n",
    "    \"Looking for comfortable shoes for running\"\n",
    "]\n",
    "for query in product_test_queries:\n",
    "    print(f\"\\nQuery: '{query}'\")\n",
    "    print(\"-\" * 50)\n",
    "    result = product_rag_pipeline.run({\n",
    "        \"embedder\": {\"text\": query},\n",
    "        \"prompt_builder\": {\"query\": query}\n",
    "    })\n",
    "    response_msg = result[\"generator\"][\"replies\"][0]\n",
    "    response_text = response_msg.content if hasattr(response_msg, 'content') else response_msg.text\n",
    "    print(response_text)"
   ]
  },
  {
   "cell_type": "markdown",
   "id": "d59b1d7f",
   "metadata": {},
   "source": [
    "## Test Common Information Generation\n"
   ]
  },
  {
   "cell_type": "markdown",
   "id": "e336e1fe",
   "metadata": {},
   "source": [
    "### Common Info Template\n"
   ]
  },
  {
   "cell_type": "code",
   "execution_count": null,
   "id": "b0a2a67c",
   "metadata": {},
   "outputs": [],
   "source": [
    "common_info_messages = [\n",
    "    ChatMessage.from_system(\"You are a helpful customer service assistant for an e-commerce platform.\"),\n",
    "    ChatMessage.from_user(\n",
    "        \"\"\"\n",
    "        Based on the retrieved information, provide a clear and helpful answer to the user's question.\n",
    "        Retrieved Information:\n",
    "        {% for doc in documents %}\n",
    "        **{{ doc.meta.title }}:**\n",
    "        {{ doc.content }}\n",
    "        ---\n",
    "        {% endfor %}\n",
    "        User Question: {{query}}\n",
    "        Please provide a comprehensive answer based on the information above.\n",
    "        \"\"\"\n",
    "    )\n",
    "]"
   ]
  },
  {
   "cell_type": "markdown",
   "id": "b4fa9d4c",
   "metadata": {},
   "source": [
    "### Create Common Info RAG Pipeline\n"
   ]
  },
  {
   "cell_type": "code",
   "execution_count": 9,
   "id": "1a1a57f9",
   "metadata": {},
   "outputs": [
    {
     "name": "stderr",
     "output_type": "stream",
     "text": [
      "ChatPromptBuilder has 2 prompt variables, but `required_variables` is not set. By default, all prompt variables are treated as optional, which may lead to unintended behavior in multi-branch pipelines. To avoid unexpected execution, ensure that variables intended to be required are explicitly set in `required_variables`.\n"
     ]
    },
    {
     "data": {
      "text/plain": [
       "<haystack.core.pipeline.pipeline.Pipeline object at 0x0000026C4FEA50C0>\n",
       "🚅 Components\n",
       "  - embedder_common: SentenceTransformersTextEmbedder\n",
       "  - retriever_common: MongoDBAtlasEmbeddingRetriever\n",
       "  - prompt_builder_common: ChatPromptBuilder\n",
       "  - generator_common: GroqChatGenerator\n",
       "🛤️ Connections\n",
       "  - embedder_common.embedding -> retriever_common.query_embedding (List[float])\n",
       "  - retriever_common.documents -> prompt_builder_common.documents (List[Document])\n",
       "  - prompt_builder_common.prompt -> generator_common.messages (List[ChatMessage])"
      ]
     },
     "execution_count": 9,
     "metadata": {},
     "output_type": "execute_result"
    }
   ],
   "source": [
    "common_info_rag_pipeline = Pipeline()\n",
    "common_info_rag_pipeline.add_component(\"embedder_common\", SentenceTransformersTextEmbedder())\n",
    "common_info_rag_pipeline.add_component(\"retriever_common\", MongoDBAtlasEmbeddingRetriever(document_store=common_info_document_store, top_k=3))\n",
    "common_info_rag_pipeline.add_component(\"prompt_builder_common\", ChatPromptBuilder(template=common_info_messages))\n",
    "common_info_rag_pipeline.add_component(\"generator_common\", GroqChatGenerator())\n",
    "\n",
    "common_info_rag_pipeline.connect(\"embedder_common.embedding\", \"retriever_common.query_embedding\")\n",
    "common_info_rag_pipeline.connect(\"retriever_common.documents\", \"prompt_builder_common.documents\")\n",
    "common_info_rag_pipeline.connect(\"prompt_builder_common.prompt\", \"generator_common.messages\")\n"
   ]
  },
  {
   "cell_type": "markdown",
   "id": "8ff91fe6",
   "metadata": {},
   "source": [
    "### Test Common Information\n"
   ]
  },
  {
   "cell_type": "code",
   "execution_count": 10,
   "id": "6000279f",
   "metadata": {},
   "outputs": [
    {
     "name": "stdout",
     "output_type": "stream",
     "text": [
      "\n",
      "\n",
      "=== COMMON INFORMATION TESTS ===\n",
      "\n",
      "Query: 'What are your shipping options and costs?'\n",
      "--------------------------------------------------\n"
     ]
    },
    {
     "name": "stderr",
     "output_type": "stream",
     "text": [
      "Batches: 100%|██████████| 1/1 [00:00<00:00, 12.09it/s]\n"
     ]
    },
    {
     "name": "stdout",
     "output_type": "stream",
     "text": [
      "Hello there!\n",
      "\n",
      "Thank you for reaching out to us about our shipping options and costs. We're happy to help you with that!\n",
      "\n",
      "We offer two shipping options for your convenience:\n",
      "\n",
      "**Standard Delivery**: This option is free of charge for orders above Rp 500,000. For orders below Rp 500,000, the shipping cost will be calculated at checkout. Standard delivery takes 2-3 business days within Jakarta and 3-5 days for other cities.\n",
      "\n",
      "**Express Delivery**: If you need your items quickly, you can opt for our express delivery service, which is available for an additional fee of Rp 25,000. This service will ensure that your items arrive faster, but the exact delivery time will depend on your location.\n",
      "\n",
      "Please note that our shipping options and costs may vary depending on your location and the weight of your order. You can estimate the shipping cost and delivery time at checkout before completing your order.\n",
      "\n",
      "If you have any further questions or concerns about our shipping options, feel free to ask! We're here to help.\n",
      "\n",
      "Query: 'How can I return a product?'\n",
      "--------------------------------------------------\n"
     ]
    },
    {
     "name": "stderr",
     "output_type": "stream",
     "text": [
      "Batches: 100%|██████████| 1/1 [00:00<00:00, 17.80it/s]\n"
     ]
    },
    {
     "name": "stdout",
     "output_type": "stream",
     "text": [
      "Hello there!\n",
      "\n",
      "Thank you for reaching out to us about returning a product. We're happy to help you with the process.\n",
      "\n",
      "To return an item, please ensure it meets our return policy conditions:\n",
      "\n",
      "* The item must be in its original condition with tags attached.\n",
      "* You need to initiate the return within 30 days of purchase.\n",
      "\n",
      "Here's how to proceed:\n",
      "\n",
      "1. Contact our customer support team via WhatsApp, email, or live chat on our website. We're available Monday to Friday from 9AM to 6PM WIB, and we'll respond to your query within 2-4 hours.\n",
      "2. Let us know the reason for the return. If the item is defective, we'll provide a prepaid return shipping label. However, if you're returning due to a change of mind, you'll need to arrange and pay for the return shipping.\n",
      "3. Once we receive your returned item, our team will process your refund within 5-7 business days. The refund will be credited back to your original payment method.\n",
      "4. For e-wallet payments, please note that refunds may take up to 14 days to be processed.\n",
      "\n",
      "That's it! If you have any further questions or concerns, please don't hesitate to reach out to us. We're here to help.\n",
      "\n",
      "Thank you for shopping with us, and we look forward to assisting you with your return.\n"
     ]
    }
   ],
   "source": [
    "print(\"\\n\\n=== COMMON INFORMATION TESTS ===\")\n",
    "info_queries = [\n",
    "    \"What are your shipping options and costs?\",\n",
    "    \"How can I return a product?\",\n",
    "]\n",
    "for query in info_queries:\n",
    "    print(f\"\\nQuery: '{query}'\")\n",
    "    print(\"-\" * 50)\n",
    "    result = common_info_rag_pipeline.run({\n",
    "        \"embedder_common\": {\"text\": query},\n",
    "        \"prompt_builder_common\": {\"query\": query}\n",
    "    })\n",
    "    response_msg = result[\"generator_common\"][\"replies\"][0]\n",
    "    response_text = response_msg.content if hasattr(response_msg, 'content') else response_msg.text\n",
    "    print(response_text)"
   ]
  },
  {
   "cell_type": "markdown",
   "id": "b1a61fc4",
   "metadata": {},
   "source": [
    "## Test Direct Generation (Without RAG)\n"
   ]
  },
  {
   "cell_type": "code",
   "execution_count": 11,
   "id": "effc023f",
   "metadata": {},
   "outputs": [
    {
     "name": "stdout",
     "output_type": "stream",
     "text": [
      "\n",
      "\n",
      "=== DIRECT GENERATION TEST ===\n",
      "Greeting Response:\n",
      "Hello there! I'd be delighted to help you with your shopping needs! What kind of shopping are you looking to do today? Are you looking for something specific, like a gift or a particular product, or are you just browsing? Let me know and I'll do my best to assist you!\n",
      "\n",
      "\n",
      "--- All tests completed ---\n"
     ]
    }
   ],
   "source": [
    "print(\"\\n\\n=== DIRECT GENERATION TEST ===\")\n",
    "simple_generator = GroqChatGenerator()\n",
    "greeting_messages = [\n",
    "    ChatMessage.from_system(\"You are a friendly shopping assistant.\"),\n",
    "    ChatMessage.from_user(\"Hello! Can you help me with shopping?\")\n",
    "]\n",
    "\n",
    "result = simple_generator.run(greeting_messages)\n",
    "print(\"Greeting Response:\")\n",
    "response_msg = result[\"replies\"][0]\n",
    "response_text = response_msg.content if hasattr(response_msg, 'content') else response_msg.text\n",
    "print(response_text)\n",
    "\n",
    "print(\"\\n\\n--- All tests completed ---\")"
   ]
  }
 ],
 "metadata": {
  "kernelspec": {
   "display_name": "smartshopper",
   "language": "python",
   "name": "python3"
  },
  "language_info": {
   "codemirror_mode": {
    "name": "ipython",
    "version": 3
   },
   "file_extension": ".py",
   "mimetype": "text/x-python",
   "name": "python",
   "nbconvert_exporter": "python",
   "pygments_lexer": "ipython3",
   "version": "3.10.18"
  }
 },
 "nbformat": 4,
 "nbformat_minor": 5
}
