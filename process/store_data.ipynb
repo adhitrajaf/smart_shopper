{
 "cells": [
  {
   "cell_type": "markdown",
   "id": "65ed7f30",
   "metadata": {},
   "source": [
    "## Import Libraries and Setup"
   ]
  },
  {
   "cell_type": "code",
   "execution_count": 1,
   "id": "96172efc",
   "metadata": {},
   "outputs": [
    {
     "name": "stderr",
     "output_type": "stream",
     "text": [
      "c:\\Users\\LENOVO\\anaconda3\\envs\\smartshopper\\lib\\site-packages\\tqdm\\auto.py:21: TqdmWarning: IProgress not found. Please update jupyter and ipywidgets. See https://ipywidgets.readthedocs.io/en/stable/user_install.html\n",
      "  from .autonotebook import tqdm as notebook_tqdm\n"
     ]
    }
   ],
   "source": [
    "import pandas as pd\n",
    "import os\n",
    "from dotenv import load_dotenv\n",
    "from haystack import Pipeline, Document\n",
    "from haystack.components.embedders import SentenceTransformersDocumentEmbedder\n",
    "from haystack.components.writers import DocumentWriter\n",
    "from haystack_integrations.document_stores.mongodb_atlas import MongoDBAtlasDocumentStore\n",
    "from pymongo import MongoClient\n",
    "import json\n",
    "from getpass import getpass"
   ]
  },
  {
   "cell_type": "code",
   "execution_count": 2,
   "id": "2e85a223",
   "metadata": {},
   "outputs": [
    {
     "data": {
      "text/plain": [
       "True"
      ]
     },
     "execution_count": 2,
     "metadata": {},
     "output_type": "execute_result"
    }
   ],
   "source": [
    "# Load environment variables\n",
    "load_dotenv()"
   ]
  },
  {
   "cell_type": "markdown",
   "id": "003d1d9d",
   "metadata": {},
   "source": [
    "## Create Sample Datasets"
   ]
  },
  {
   "cell_type": "markdown",
   "id": "eab88661",
   "metadata": {},
   "source": [
    "### Products Dataset"
   ]
  },
  {
   "cell_type": "code",
   "execution_count": 3,
   "id": "5e8184ef",
   "metadata": {},
   "outputs": [],
   "source": [
    "products_data = [\n",
    "    {\n",
    "        \"title\": \"Samsung Galaxy S24\",\n",
    "        \"description\": \"Latest Samsung smartphone with advanced camera and AI features. Perfect for photography enthusiasts.\",\n",
    "        \"price\": 15000000,  # in IDR\n",
    "        \"material\": \"Glass\",\n",
    "        \"category\": \"Electronics\",\n",
    "        \"brand\": \"Samsung\",\n",
    "        \"asin\": \"SAMS24001\"\n",
    "    },\n",
    "    {\n",
    "        \"title\": \"Nike Air Max 270\",\n",
    "        \"description\": \"Comfortable running shoes with excellent cushioning and modern design.\",\n",
    "        \"price\": 2500000,\n",
    "        \"material\": \"Synthetic\",\n",
    "        \"category\": \"Shoes\",\n",
    "        \"brand\": \"Nike\", \n",
    "        \"asin\": \"NIKE270001\"\n",
    "    },\n",
    "    {\n",
    "        \"title\": \"Leather Office Chair\",\n",
    "        \"description\": \"Ergonomic office chair with genuine leather upholstery for maximum comfort.\",\n",
    "        \"price\": 3500000,\n",
    "        \"material\": \"Leather\",\n",
    "        \"category\": \"Furniture\",\n",
    "        \"brand\": \"ErgoMax\",\n",
    "        \"asin\": \"ERGO001\"\n",
    "    },\n",
    "    {\n",
    "        \"title\": \"Cotton T-Shirt\",\n",
    "        \"description\": \"100% organic cotton t-shirt, comfortable and breathable for daily wear.\",\n",
    "        \"price\": 250000,\n",
    "        \"material\": \"Cotton\",\n",
    "        \"category\": \"Clothing\",\n",
    "        \"brand\": \"EcoWear\",\n",
    "        \"asin\": \"ECO001\"\n",
    "    },\n",
    "    {\n",
    "        \"title\": \"Wooden Dining Table\",\n",
    "        \"description\": \"Solid wood dining table that seats 6 people, perfect for family meals.\",\n",
    "        \"price\": 8000000,\n",
    "        \"material\": \"Wood\",\n",
    "        \"category\": \"Furniture\", \n",
    "        \"brand\": \"WoodCraft\",\n",
    "        \"asin\": \"WOOD001\"\n",
    "    }\n",
    "]\n"
   ]
  },
  {
   "cell_type": "code",
   "execution_count": 4,
   "id": "d38b0d30",
   "metadata": {},
   "outputs": [
    {
     "name": "stdout",
     "output_type": "stream",
     "text": [
      "Products Dataset:\n",
      "                  title                                        description  \\\n",
      "0    Samsung Galaxy S24  Latest Samsung smartphone with advanced camera...   \n",
      "1      Nike Air Max 270  Comfortable running shoes with excellent cushi...   \n",
      "2  Leather Office Chair  Ergonomic office chair with genuine leather up...   \n",
      "3        Cotton T-Shirt  100% organic cotton t-shirt, comfortable and b...   \n",
      "4   Wooden Dining Table  Solid wood dining table that seats 6 people, p...   \n",
      "\n",
      "      price   material     category      brand        asin  \n",
      "0  15000000      Glass  Electronics    Samsung   SAMS24001  \n",
      "1   2500000  Synthetic        Shoes       Nike  NIKE270001  \n",
      "2   3500000    Leather    Furniture    ErgoMax     ERGO001  \n",
      "3    250000     Cotton     Clothing    EcoWear      ECO001  \n",
      "4   8000000       Wood    Furniture  WoodCraft     WOOD001  \n"
     ]
    }
   ],
   "source": [
    "products_df = pd.DataFrame(products_data)\n",
    "print(\"Products Dataset:\")\n",
    "print(products_df.head())"
   ]
  },
  {
   "cell_type": "markdown",
   "id": "f63a12a0",
   "metadata": {},
   "source": [
    "### Common Information Dataset"
   ]
  },
  {
   "cell_type": "code",
   "execution_count": 5,
   "id": "28932c76",
   "metadata": {},
   "outputs": [],
   "source": [
    "common_info_data = [\n",
    "    {\n",
    "        \"title\": \"Shipping Information\",\n",
    "        \"content\": \"We offer free shipping for orders above Rp 500,000. Standard delivery takes 2-3 business days within Jakarta and 3-5 days for other cities. Express delivery is available for an additional fee of Rp 25,000.\",\n",
    "        \"category\": \"shipping\"\n",
    "    },\n",
    "    {\n",
    "        \"title\": \"Payment Methods\",\n",
    "        \"content\": \"We accept various payment methods including credit cards (Visa, MasterCard), bank transfers, e-wallets (GoPay, OVO, DANA), and cash on delivery (COD) for selected areas.\",\n",
    "        \"category\": \"payment\"\n",
    "    },\n",
    "    {\n",
    "        \"title\": \"Return Policy\",\n",
    "        \"content\": \"You can return items within 30 days of purchase. Items must be in original condition with tags attached. Return shipping is free for defective items, but customer pays for returns due to change of mind.\",\n",
    "        \"category\": \"return\"\n",
    "    },\n",
    "    {\n",
    "        \"title\": \"Refund Process\",\n",
    "        \"content\": \"Refunds are processed within 5-7 business days after we receive your returned item. The refund will be credited to your original payment method. For e-wallet payments, refund may take up to 14 days.\",\n",
    "        \"category\": \"refund\"\n",
    "    },\n",
    "    {\n",
    "        \"title\": \"Size Guide\",\n",
    "        \"content\": \"Please check our size guide before ordering clothing items. Measurements are in centimeters. For shoes, we recommend ordering half a size up if you're between sizes.\",\n",
    "        \"category\": \"sizing\"\n",
    "    },\n",
    "    {\n",
    "        \"title\": \"Customer Support\",\n",
    "        \"content\": \"Our customer support is available Monday-Friday 9AM-6PM WIB. You can reach us via WhatsApp, email, or live chat on our website. Average response time is 2-4 hours.\",\n",
    "        \"category\": \"support\"\n",
    "    }\n",
    "]"
   ]
  },
  {
   "cell_type": "code",
   "execution_count": 6,
   "id": "1a5fb6fe",
   "metadata": {},
   "outputs": [
    {
     "name": "stdout",
     "output_type": "stream",
     "text": [
      "\n",
      "Common Information Dataset:\n",
      "                  title                                            content  \\\n",
      "0  Shipping Information  We offer free shipping for orders above Rp 500...   \n",
      "1       Payment Methods  We accept various payment methods including cr...   \n",
      "2         Return Policy  You can return items within 30 days of purchas...   \n",
      "3        Refund Process  Refunds are processed within 5-7 business days...   \n",
      "4            Size Guide  Please check our size guide before ordering cl...   \n",
      "\n",
      "   category  \n",
      "0  shipping  \n",
      "1   payment  \n",
      "2    return  \n",
      "3    refund  \n",
      "4    sizing  \n"
     ]
    }
   ],
   "source": [
    "common_info_df = pd.DataFrame(common_info_data)\n",
    "print(\"\\nCommon Information Dataset:\")\n",
    "print(common_info_df.head())"
   ]
  },
  {
   "cell_type": "markdown",
   "id": "5b3b853e",
   "metadata": {},
   "source": [
    "## MongoDB Atlas Connection Setup"
   ]
  },
  {
   "cell_type": "code",
   "execution_count": 7,
   "id": "8ba26241",
   "metadata": {},
   "outputs": [
    {
     "name": "stdout",
     "output_type": "stream",
     "text": [
      "Connected to MongoDB. Database: smartshopper_store\n"
     ]
    }
   ],
   "source": [
    "# Get MongoDB connection string\n",
    "if not os.environ.get(\"MONGO_CONNECTION_STRING\"):\n",
    "    mongo_string = getpass(\"Enter MongoDB Atlas Connection String: \")\n",
    "    os.environ[\"MONGO_CONNECTION_STRING\"] = mongo_string\n",
    "\n",
    "# Test MongoDB connection\n",
    "client = MongoClient(os.environ[\"MONGO_CONNECTION_STRING\"])\n",
    "db = client.smartshopper_store\n",
    "print(f\"Connected to MongoDB. Database: {db.name}\")"
   ]
  },
  {
   "cell_type": "markdown",
   "id": "3cb782aa",
   "metadata": {},
   "source": [
    "## Create Document Stores"
   ]
  },
  {
   "cell_type": "markdown",
   "id": "da26c812",
   "metadata": {},
   "source": [
    "### Products Document Store"
   ]
  },
  {
   "cell_type": "code",
   "execution_count": 8,
   "id": "d842f18a",
   "metadata": {},
   "outputs": [],
   "source": [
    "products_document_store = MongoDBAtlasDocumentStore(\n",
    "    database_name=\"smartshopper_store\",\n",
    "    collection_name=\"products\",\n",
    "    vector_search_index=\"vector_index\",\n",
    "    full_text_search_index=\"search_index\",\n",
    ")"
   ]
  },
  {
   "cell_type": "markdown",
   "id": "f710ef4f",
   "metadata": {},
   "source": [
    "### Common Information Document Store "
   ]
  },
  {
   "cell_type": "code",
   "execution_count": 9,
   "id": "c0125e55",
   "metadata": {},
   "outputs": [],
   "source": [
    "common_info_document_store = MongoDBAtlasDocumentStore(\n",
    "    database_name=\"smartshopper_store\", \n",
    "    collection_name=\"common_info\",\n",
    "    vector_search_index=\"common_info_vector_index\",\n",
    "    full_text_search_index=\"common_info_search_index\",\n",
    ")"
   ]
  },
  {
   "cell_type": "markdown",
   "id": "5d73c1a8",
   "metadata": {},
   "source": [
    "## Build Documents for Storage"
   ]
  },
  {
   "cell_type": "markdown",
   "id": "83d9bfec",
   "metadata": {},
   "source": [
    "### Products Documents"
   ]
  },
  {
   "cell_type": "code",
   "execution_count": 10,
   "id": "6e55c427",
   "metadata": {},
   "outputs": [
    {
     "name": "stdout",
     "output_type": "stream",
     "text": [
      "Created 5 product documents\n",
      "Sample product document:\n",
      "Document(id=f91f54a6ab6bea13fe88ed4c039f92a8a14e876cd8d1596f7be04a5d6bc2562a, content: 'Samsung Galaxy S24\n",
      "Latest Samsung smartphone with advanced camera and AI features. Perfect for photo...', meta: {'asin': 'SAMS24001', 'title': 'Samsung Galaxy S24', 'brand': 'Samsung', 'price': 15000000, 'material': 'Glass', 'category': 'Electronics'})\n"
     ]
    }
   ],
   "source": [
    "products_documents = []\n",
    "for index, row in products_df.iterrows():\n",
    "    # Clean description\n",
    "    descriptions = row[\"description\"].strip(\"[]\").strip('\"\"')\n",
    "    \n",
    "    doc = Document(\n",
    "        content=f\"{row['title']}\\n{descriptions}\",\n",
    "        meta={\n",
    "            'asin': row['asin'],\n",
    "            'title': row['title'], \n",
    "            'brand': row['brand'],\n",
    "            'price': row['price'],\n",
    "            'material': row['material'],\n",
    "            'category': row['category'],\n",
    "        }\n",
    "    )\n",
    "    products_documents.append(doc)\n",
    "\n",
    "print(f\"Created {len(products_documents)} product documents\")\n",
    "print(\"Sample product document:\")\n",
    "print(products_documents[0])"
   ]
  },
  {
   "cell_type": "markdown",
   "id": "9bde6441",
   "metadata": {},
   "source": [
    "### Common Information Documents"
   ]
  },
  {
   "cell_type": "code",
   "execution_count": 11,
   "id": "3d5d32dd",
   "metadata": {},
   "outputs": [
    {
     "name": "stdout",
     "output_type": "stream",
     "text": [
      "\n",
      "Created 6 common info documents\n",
      "Sample common info document:\n",
      "Document(id=042fc1fedf1e48d12015d8c49c6ec307f1d9234d33d7a67f2a902cb688b598af, content: 'We offer free shipping for orders above Rp 500,000. Standard delivery takes 2-3 business days within...', meta: {'title': 'Shipping Information', 'category': 'shipping'})\n"
     ]
    }
   ],
   "source": [
    "common_info_documents = []\n",
    "for index, row in common_info_df.iterrows():\n",
    "    doc = Document(\n",
    "        content=row[\"content\"],\n",
    "        meta={\n",
    "            'title': row['title'],\n",
    "            'category': row['category'],\n",
    "        }\n",
    "    )\n",
    "    common_info_documents.append(doc)\n",
    "\n",
    "print(f\"\\nCreated {len(common_info_documents)} common info documents\")\n",
    "print(\"Sample common info document:\")\n",
    "print(common_info_documents[0])"
   ]
  },
  {
   "cell_type": "markdown",
   "id": "8a667229",
   "metadata": {},
   "source": [
    "## Create Storage Pipelines"
   ]
  },
  {
   "cell_type": "markdown",
   "id": "42ec4589",
   "metadata": {},
   "source": [
    "### Products Storage Pipeline"
   ]
  },
  {
   "cell_type": "code",
   "execution_count": 12,
   "id": "8c92d9e6",
   "metadata": {},
   "outputs": [
    {
     "data": {
      "text/plain": [
       "<haystack.core.pipeline.pipeline.Pipeline object at 0x0000023EEDB33EE0>\n",
       "🚅 Components\n",
       "  - embedder: SentenceTransformersDocumentEmbedder\n",
       "  - writer: DocumentWriter\n",
       "🛤️ Connections\n",
       "  - embedder.documents -> writer.documents (List[Document])"
      ]
     },
     "execution_count": 12,
     "metadata": {},
     "output_type": "execute_result"
    }
   ],
   "source": [
    "products_pipeline = Pipeline()\n",
    "products_pipeline.add_component(\"embedder\", SentenceTransformersDocumentEmbedder())\n",
    "products_pipeline.add_component(\"writer\", DocumentWriter(document_store=products_document_store, policy=\"OVERWRITE\")) # type: ignore\n",
    "products_pipeline.connect(\"embedder\", \"writer\")"
   ]
  },
  {
   "cell_type": "markdown",
   "id": "c7b7f2e1",
   "metadata": {},
   "source": [
    "### Common Info Storage Pipeline"
   ]
  },
  {
   "cell_type": "code",
   "execution_count": 13,
   "id": "51161a07",
   "metadata": {},
   "outputs": [
    {
     "data": {
      "text/plain": [
       "<haystack.core.pipeline.pipeline.Pipeline object at 0x0000023EEDB33580>\n",
       "🚅 Components\n",
       "  - embedder: SentenceTransformersDocumentEmbedder\n",
       "  - writer: DocumentWriter\n",
       "🛤️ Connections\n",
       "  - embedder.documents -> writer.documents (List[Document])"
      ]
     },
     "execution_count": 13,
     "metadata": {},
     "output_type": "execute_result"
    }
   ],
   "source": [
    "common_info_pipeline = Pipeline()\n",
    "common_info_pipeline.add_component(\"embedder\", SentenceTransformersDocumentEmbedder())\n",
    "common_info_pipeline.add_component(\"writer\", DocumentWriter(document_store=common_info_document_store, policy=\"OVERWRITE\")) # type: ignore\n",
    "common_info_pipeline.connect(\"embedder\", \"writer\")"
   ]
  },
  {
   "cell_type": "markdown",
   "id": "6927031b",
   "metadata": {},
   "source": [
    "## Store Data"
   ]
  },
  {
   "cell_type": "markdown",
   "id": "c6abd5e4",
   "metadata": {},
   "source": [
    "### Store Products"
   ]
  },
  {
   "cell_type": "code",
   "execution_count": 14,
   "id": "1679b5e0",
   "metadata": {},
   "outputs": [
    {
     "name": "stdout",
     "output_type": "stream",
     "text": [
      "Storing products data...\n"
     ]
    },
    {
     "name": "stderr",
     "output_type": "stream",
     "text": [
      "Batches: 100%|██████████| 1/1 [00:00<00:00,  4.50it/s]\n"
     ]
    },
    {
     "name": "stdout",
     "output_type": "stream",
     "text": [
      "Stored 5 product documents successfully!\n",
      "Storing common information data...\n"
     ]
    },
    {
     "name": "stderr",
     "output_type": "stream",
     "text": [
      "Batches: 100%|██████████| 1/1 [00:00<00:00,  3.39it/s]\n"
     ]
    },
    {
     "name": "stdout",
     "output_type": "stream",
     "text": [
      "Stored 6 common info documents successfully!\n"
     ]
    }
   ],
   "source": [
    "print(\"Storing products data...\")\n",
    "products_result = products_pipeline.run({\n",
    "    \"embedder\": {\n",
    "        \"documents\": products_documents\n",
    "    }\n",
    "})\n",
    "print(f\"Stored {len(products_documents)} product documents successfully!\")\n",
    "\n",
    "### Store Common Information\n",
    "print(\"Storing common information data...\")\n",
    "common_info_result = common_info_pipeline.run({\n",
    "    \"embedder\": {\n",
    "        \"documents\": common_info_documents\n",
    "    }\n",
    "})\n",
    "print(f\"Stored {len(common_info_documents)} common info documents successfully!\")"
   ]
  },
  {
   "cell_type": "markdown",
   "id": "2c831ebf",
   "metadata": {},
   "source": [
    "## Create Reference Collections"
   ]
  },
  {
   "cell_type": "markdown",
   "id": "38746f56",
   "metadata": {},
   "source": [
    "### Materials Collection\n"
   ]
  },
  {
   "cell_type": "code",
   "execution_count": 15,
   "id": "b0f36d99",
   "metadata": {},
   "outputs": [
    {
     "name": "stdout",
     "output_type": "stream",
     "text": [
      "Created materials collection with 5 items: ['Glass', 'Synthetic', 'Leather', 'Cotton', 'Wood']\n"
     ]
    }
   ],
   "source": [
    "materials = list(products_df['material'].unique())\n",
    "materials_collection = db.materials\n",
    "materials_collection.drop()  # Clear existing data\n",
    "for material in materials:\n",
    "    materials_collection.insert_one({\"name\": material})\n",
    "print(f\"Created materials collection with {len(materials)} items: {materials}\")"
   ]
  },
  {
   "cell_type": "markdown",
   "id": "c88f84a3",
   "metadata": {},
   "source": [
    "### Categories Collection\n"
   ]
  },
  {
   "cell_type": "code",
   "execution_count": 16,
   "id": "3faca670",
   "metadata": {},
   "outputs": [
    {
     "name": "stdout",
     "output_type": "stream",
     "text": [
      "Created categories collection with 4 items: ['Electronics', 'Shoes', 'Furniture', 'Clothing']\n"
     ]
    }
   ],
   "source": [
    "categories = list(products_df['category'].unique())\n",
    "categories_collection = db.categories  \n",
    "categories_collection.drop()  # Clear existing data\n",
    "for category in categories:\n",
    "    categories_collection.insert_one({\"name\": category})\n",
    "print(f\"Created categories collection with {len(categories)} items: {categories}\")"
   ]
  },
  {
   "cell_type": "markdown",
   "id": "b9892e46",
   "metadata": {},
   "source": [
    "## Verify Storage\n"
   ]
  },
  {
   "cell_type": "code",
   "execution_count": 17,
   "id": "c4983b66",
   "metadata": {},
   "outputs": [
    {
     "name": "stdout",
     "output_type": "stream",
     "text": [
      "\n",
      "Verification:\n",
      "Products in document store: 5\n",
      "Common info in document store: 6\n",
      "Materials in collection: 5\n",
      "Categories in collection: 4\n",
      "Data storage completed successfully!\n"
     ]
    }
   ],
   "source": [
    "print(\"\\nVerification:\")\n",
    "print(f\"Products in document store: {products_document_store.count_documents()}\")\n",
    "print(f\"Common info in document store: {common_info_document_store.count_documents()}\")\n",
    "print(f\"Materials in collection: {materials_collection.count_documents({})}\")\n",
    "print(f\"Categories in collection: {categories_collection.count_documents({})}\")\n",
    "\n",
    "print(\"Data storage completed successfully!\")"
   ]
  }
 ],
 "metadata": {
  "kernelspec": {
   "display_name": "smartshopper",
   "language": "python",
   "name": "python3"
  },
  "language_info": {
   "codemirror_mode": {
    "name": "ipython",
    "version": 3
   },
   "file_extension": ".py",
   "mimetype": "text/x-python",
   "name": "python",
   "nbconvert_exporter": "python",
   "pygments_lexer": "ipython3",
   "version": "3.10.18"
  }
 },
 "nbformat": 4,
 "nbformat_minor": 5
}
