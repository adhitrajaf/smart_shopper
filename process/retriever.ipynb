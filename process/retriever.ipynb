{
 "cells": [
  {
   "cell_type": "markdown",
   "id": "207d049b",
   "metadata": {},
   "source": [
    "## Import Libraries"
   ]
  },
  {
   "cell_type": "code",
   "execution_count": 2,
   "id": "74157067",
   "metadata": {},
   "outputs": [
    {
     "name": "stderr",
     "output_type": "stream",
     "text": [
      "c:\\Users\\LENOVO\\anaconda3\\envs\\smartshopper\\lib\\site-packages\\tqdm\\auto.py:21: TqdmWarning: IProgress not found. Please update jupyter and ipywidgets. See https://ipywidgets.readthedocs.io/en/stable/user_install.html\n",
      "  from .autonotebook import tqdm as notebook_tqdm\n"
     ]
    }
   ],
   "source": [
    "import os\n",
    "from dotenv import load_dotenv\n",
    "from haystack import Pipeline\n",
    "from haystack.components.embedders import SentenceTransformersTextEmbedder\n",
    "from haystack_integrations.document_stores.mongodb_atlas import MongoDBAtlasDocumentStore\n",
    "from haystack_integrations.components.retrievers.mongodb_atlas import MongoDBAtlasEmbeddingRetriever"
   ]
  },
  {
   "cell_type": "code",
   "execution_count": 3,
   "id": "099d28ab",
   "metadata": {},
   "outputs": [
    {
     "data": {
      "text/plain": [
       "True"
      ]
     },
     "execution_count": 3,
     "metadata": {},
     "output_type": "execute_result"
    }
   ],
   "source": [
    "load_dotenv()"
   ]
  },
  {
   "cell_type": "markdown",
   "id": "fe9e0eb7",
   "metadata": {},
   "source": [
    "## Setup Document Stores"
   ]
  },
  {
   "cell_type": "code",
   "execution_count": 4,
   "id": "ef072d83",
   "metadata": {},
   "outputs": [
    {
     "name": "stdout",
     "output_type": "stream",
     "text": [
      "Products in store: 5\n",
      "Common info in store: 6\n"
     ]
    }
   ],
   "source": [
    "products_document_store = MongoDBAtlasDocumentStore(\n",
    "    database_name=\"smartshopper_store\",\n",
    "    collection_name=\"products\", \n",
    "    vector_search_index=\"vector_index\",\n",
    "    full_text_search_index=\"search_index\",\n",
    ")\n",
    "\n",
    "common_info_document_store = MongoDBAtlasDocumentStore(\n",
    "    database_name=\"smartshopper_store\",\n",
    "    collection_name=\"common_info\",\n",
    "    vector_search_index=\"common_info_vector_index\", \n",
    "    full_text_search_index=\"common_info_search_index\",\n",
    ")\n",
    "\n",
    "print(f\"Products in store: {products_document_store.count_documents()}\")\n",
    "print(f\"Common info in store: {common_info_document_store.count_documents()}\")"
   ]
  },
  {
   "cell_type": "markdown",
   "id": "0c13afb7",
   "metadata": {},
   "source": [
    "## Test Products Retrieval"
   ]
  },
  {
   "cell_type": "markdown",
   "id": "3262bbf1",
   "metadata": {},
   "source": [
    "### Create Products Retrieval Pipeline"
   ]
  },
  {
   "cell_type": "code",
   "execution_count": 5,
   "id": "617b27c8",
   "metadata": {},
   "outputs": [],
   "source": [
    "embedder_768 = SentenceTransformersTextEmbedder()"
   ]
  },
  {
   "cell_type": "code",
   "execution_count": 6,
   "id": "201467d7",
   "metadata": {},
   "outputs": [
    {
     "data": {
      "text/plain": [
       "<haystack.core.pipeline.pipeline.Pipeline object at 0x0000018C11DFDBA0>\n",
       "🚅 Components\n",
       "  - embedder: SentenceTransformersTextEmbedder\n",
       "  - retriever: MongoDBAtlasEmbeddingRetriever\n",
       "🛤️ Connections\n",
       "  - embedder.embedding -> retriever.query_embedding (List[float])"
      ]
     },
     "execution_count": 6,
     "metadata": {},
     "output_type": "execute_result"
    }
   ],
   "source": [
    "products_pipeline = Pipeline()\n",
    "products_pipeline.add_component(\"embedder\", embedder_768)  # Use 768-dim embedder\n",
    "products_pipeline.add_component(\"retriever\", MongoDBAtlasEmbeddingRetriever(\n",
    "    document_store=products_document_store, \n",
    "    top_k=5\n",
    "))\n",
    "products_pipeline.connect(\"embedder\", \"retriever\")"
   ]
  },
  {
   "cell_type": "code",
   "execution_count": null,
   "id": "23e6c395",
   "metadata": {},
   "outputs": [],
   "source": []
  },
  {
   "cell_type": "markdown",
   "id": "4440c080",
   "metadata": {},
   "source": [
    "### Test Product Queries\n"
   ]
  },
  {
   "cell_type": "code",
   "execution_count": 8,
   "id": "0fc5f8f2",
   "metadata": {},
   "outputs": [
    {
     "name": "stdout",
     "output_type": "stream",
     "text": [
      "\n",
      "=== PRODUCT RETRIEVAL TESTS ===\n",
      "\n",
      "Query: 'smartphone with good camera'\n"
     ]
    },
    {
     "name": "stderr",
     "output_type": "stream",
     "text": [
      "Batches: 100%|██████████| 1/1 [00:00<00:00, 11.26it/s]\n"
     ]
    },
    {
     "name": "stdout",
     "output_type": "stream",
     "text": [
      "Found 5 products:\n",
      "1. Samsung Galaxy S24 - Samsung\n",
      "   Price: Rp 15,000,000\n",
      "   Material: Glass, Category: Electronics\n",
      "   Score: 0.795\n",
      "2. Cotton T-Shirt - EcoWear\n",
      "   Price: Rp 250,000\n",
      "   Material: Cotton, Category: Clothing\n",
      "   Score: 0.563\n",
      "3. Nike Air Max 270 - Nike\n",
      "   Price: Rp 2,500,000\n",
      "   Material: Synthetic, Category: Shoes\n",
      "   Score: 0.555\n",
      "\n",
      "Query: 'comfortable running shoes'\n"
     ]
    },
    {
     "name": "stderr",
     "output_type": "stream",
     "text": [
      "Batches: 100%|██████████| 1/1 [00:00<00:00, 18.13it/s]\n"
     ]
    },
    {
     "name": "stdout",
     "output_type": "stream",
     "text": [
      "Found 5 products:\n",
      "1. Nike Air Max 270 - Nike\n",
      "   Price: Rp 2,500,000\n",
      "   Material: Synthetic, Category: Shoes\n",
      "   Score: 0.863\n",
      "2. Leather Office Chair - ErgoMax\n",
      "   Price: Rp 3,500,000\n",
      "   Material: Leather, Category: Furniture\n",
      "   Score: 0.611\n",
      "3. Cotton T-Shirt - EcoWear\n",
      "   Price: Rp 250,000\n",
      "   Material: Cotton, Category: Clothing\n",
      "   Score: 0.580\n",
      "\n",
      "Query: 'office chair for working'\n"
     ]
    },
    {
     "name": "stderr",
     "output_type": "stream",
     "text": [
      "Batches: 100%|██████████| 1/1 [00:00<00:00, 21.44it/s]\n"
     ]
    },
    {
     "name": "stdout",
     "output_type": "stream",
     "text": [
      "Found 5 products:\n",
      "1. Leather Office Chair - ErgoMax\n",
      "   Price: Rp 3,500,000\n",
      "   Material: Leather, Category: Furniture\n",
      "   Score: 0.835\n",
      "2. Wooden Dining Table - WoodCraft\n",
      "   Price: Rp 8,000,000\n",
      "   Material: Wood, Category: Furniture\n",
      "   Score: 0.644\n",
      "3. Nike Air Max 270 - Nike\n",
      "   Price: Rp 2,500,000\n",
      "   Material: Synthetic, Category: Shoes\n",
      "   Score: 0.579\n",
      "\n",
      "Query: 'cotton clothing'\n"
     ]
    },
    {
     "name": "stderr",
     "output_type": "stream",
     "text": [
      "Batches: 100%|██████████| 1/1 [00:00<00:00, 19.54it/s]\n"
     ]
    },
    {
     "name": "stdout",
     "output_type": "stream",
     "text": [
      "Found 5 products:\n",
      "1. Cotton T-Shirt - EcoWear\n",
      "   Price: Rp 250,000\n",
      "   Material: Cotton, Category: Clothing\n",
      "   Score: 0.827\n",
      "2. Leather Office Chair - ErgoMax\n",
      "   Price: Rp 3,500,000\n",
      "   Material: Leather, Category: Furniture\n",
      "   Score: 0.655\n",
      "3. Nike Air Max 270 - Nike\n",
      "   Price: Rp 2,500,000\n",
      "   Material: Synthetic, Category: Shoes\n",
      "   Score: 0.618\n",
      "\n",
      "Query: 'wooden furniture'\n"
     ]
    },
    {
     "name": "stderr",
     "output_type": "stream",
     "text": [
      "Batches: 100%|██████████| 1/1 [00:00<00:00, 21.82it/s]\n"
     ]
    },
    {
     "name": "stdout",
     "output_type": "stream",
     "text": [
      "Found 5 products:\n",
      "1. Wooden Dining Table - WoodCraft\n",
      "   Price: Rp 8,000,000\n",
      "   Material: Wood, Category: Furniture\n",
      "   Score: 0.824\n",
      "2. Leather Office Chair - ErgoMax\n",
      "   Price: Rp 3,500,000\n",
      "   Material: Leather, Category: Furniture\n",
      "   Score: 0.706\n",
      "3. Cotton T-Shirt - EcoWear\n",
      "   Price: Rp 250,000\n",
      "   Material: Cotton, Category: Clothing\n",
      "   Score: 0.606\n"
     ]
    }
   ],
   "source": [
    "test_product_queries = [\n",
    "    \"smartphone with good camera\",\n",
    "    \"comfortable running shoes\", \n",
    "    \"office chair for working\",\n",
    "    \"cotton clothing\",\n",
    "    \"wooden furniture\"\n",
    "]\n",
    "\n",
    "print(\"\\n=== PRODUCT RETRIEVAL TESTS ===\")\n",
    "for query in test_product_queries:\n",
    "    print(f\"\\nQuery: '{query}'\")\n",
    "    result = products_pipeline.run({\n",
    "        \"embedder\": {\"text\": query}\n",
    "    })\n",
    "    \n",
    "    documents = result[\"retriever\"][\"documents\"]\n",
    "    print(f\"Found {len(documents)} products:\")\n",
    "    \n",
    "    for i, doc in enumerate(documents[:3], 1):  # Show top 3\n",
    "        print(f\"{i}. {doc.meta['title']} - {doc.meta['brand']}\")\n",
    "        print(f\"   Price: Rp {doc.meta['price']:,}\")\n",
    "        print(f\"   Material: {doc.meta['material']}, Category: {doc.meta['category']}\")\n",
    "        print(f\"   Score: {doc.score:.3f}\")"
   ]
  },
  {
   "cell_type": "markdown",
   "id": "92f6a7e9",
   "metadata": {},
   "source": [
    "## Test Common Information Retrieval\n"
   ]
  },
  {
   "cell_type": "markdown",
   "id": "fbbbcc46",
   "metadata": {},
   "source": [
    "### Create Common Info Retrieval Pipeline  \n"
   ]
  },
  {
   "cell_type": "code",
   "execution_count": 10,
   "id": "a4aadf06",
   "metadata": {},
   "outputs": [
    {
     "data": {
      "text/plain": [
       "<haystack.core.pipeline.pipeline.Pipeline object at 0x0000018C11DFFFD0>\n",
       "🚅 Components\n",
       "  - embedder: SentenceTransformersTextEmbedder\n",
       "  - retriever: MongoDBAtlasEmbeddingRetriever\n",
       "🛤️ Connections\n",
       "  - embedder.embedding -> retriever.query_embedding (List[float])"
      ]
     },
     "execution_count": 10,
     "metadata": {},
     "output_type": "execute_result"
    }
   ],
   "source": [
    "common_info_embedder = SentenceTransformersTextEmbedder()\n",
    "\n",
    "common_info_pipeline = Pipeline()\n",
    "common_info_pipeline.add_component(\"embedder\", common_info_embedder)\n",
    "common_info_pipeline.add_component(\"retriever\", MongoDBAtlasEmbeddingRetriever(\n",
    "    document_store=common_info_document_store,\n",
    "    top_k=3\n",
    "))\n",
    "common_info_pipeline.connect(\"embedder\", \"retriever\")"
   ]
  },
  {
   "cell_type": "markdown",
   "id": "59b8ff9c",
   "metadata": {},
   "source": [
    "### Test Common Info Queries\n"
   ]
  },
  {
   "cell_type": "code",
   "execution_count": 25,
   "id": "42cf4448",
   "metadata": {},
   "outputs": [
    {
     "name": "stdout",
     "output_type": "stream",
     "text": [
      "\n",
      "=== COMMON INFORMATION RETRIEVAL TESTS ===\n",
      "\n",
      "Query: 'how to return items'\n"
     ]
    },
    {
     "name": "stderr",
     "output_type": "stream",
     "text": [
      "Batches:   0%|          | 0/1 [00:00<?, ?it/s]"
     ]
    },
    {
     "name": "stderr",
     "output_type": "stream",
     "text": [
      "Batches: 100%|██████████| 1/1 [00:00<00:00, 11.84it/s]\n"
     ]
    },
    {
     "name": "stdout",
     "output_type": "stream",
     "text": [
      "Found 0 information pieces:\n",
      "\n",
      "Query: 'payment methods accepted'\n"
     ]
    },
    {
     "name": "stderr",
     "output_type": "stream",
     "text": [
      "Batches: 100%|██████████| 1/1 [00:00<00:00, 16.45it/s]\n"
     ]
    },
    {
     "name": "stdout",
     "output_type": "stream",
     "text": [
      "Found 0 information pieces:\n",
      "\n",
      "Query: 'shipping costs and delivery time'\n"
     ]
    },
    {
     "name": "stderr",
     "output_type": "stream",
     "text": [
      "Batches: 100%|██████████| 1/1 [00:00<00:00, 18.74it/s]\n"
     ]
    },
    {
     "name": "stdout",
     "output_type": "stream",
     "text": [
      "Found 0 information pieces:\n",
      "\n",
      "Query: 'refund process'\n"
     ]
    },
    {
     "name": "stderr",
     "output_type": "stream",
     "text": [
      "Batches: 100%|██████████| 1/1 [00:00<00:00, 20.31it/s]\n"
     ]
    },
    {
     "name": "stdout",
     "output_type": "stream",
     "text": [
      "Found 0 information pieces:\n",
      "\n",
      "Query: 'customer support hours'\n"
     ]
    },
    {
     "name": "stderr",
     "output_type": "stream",
     "text": [
      "Batches: 100%|██████████| 1/1 [00:00<00:00, 22.01it/s]\n"
     ]
    },
    {
     "name": "stdout",
     "output_type": "stream",
     "text": [
      "Found 0 information pieces:\n"
     ]
    }
   ],
   "source": [
    "test_info_queries = [\n",
    "    \"how to return items\",\n",
    "    \"payment methods accepted\",\n",
    "    \"shipping costs and delivery time\",\n",
    "    \"refund process\",\n",
    "    \"customer support hours\"\n",
    "]\n",
    "\n",
    "print(\"\\n=== COMMON INFORMATION RETRIEVAL TESTS ===\")\n",
    "for query in test_info_queries:\n",
    "    print(f\"\\nQuery: '{query}'\")\n",
    "    result = common_info_pipeline.run({\n",
    "        \"embedder\": {\"text\": query}\n",
    "    })\n",
    "    \n",
    "    documents = result[\"retriever\"][\"documents\"]\n",
    "    print(f\"Found {len(documents)} information pieces:\")\n",
    "    \n",
    "    for i, doc in enumerate(documents, 1):\n",
    "        print(f\"{i}. {doc.meta['title']} (Category: {doc.meta['category']})\")\n",
    "        print(f\"   Content: {doc.content[:100]}...\")\n",
    "        print(f\"   Score: {doc.score:.3f}\")"
   ]
  },
  {
   "cell_type": "markdown",
   "id": "2ebfe430",
   "metadata": {},
   "source": [
    "## Test with Filters"
   ]
  },
  {
   "cell_type": "code",
   "execution_count": 28,
   "id": "5572f026",
   "metadata": {},
   "outputs": [
    {
     "name": "stdout",
     "output_type": "stream",
     "text": [
      "\n",
      "Testing material filter (Cotton) - Fixed format:\n"
     ]
    },
    {
     "name": "stderr",
     "output_type": "stream",
     "text": [
      "Batches:   0%|          | 0/1 [00:00<?, ?it/s]"
     ]
    },
    {
     "name": "stderr",
     "output_type": "stream",
     "text": [
      "Batches: 100%|██████████| 1/1 [00:00<00:00, 18.98it/s]\n"
     ]
    },
    {
     "name": "stdout",
     "output_type": "stream",
     "text": [
      "Found 0 cotton products:\n",
      "\n",
      "Testing category filter (Electronics) - Fixed format:\n"
     ]
    },
    {
     "name": "stderr",
     "output_type": "stream",
     "text": [
      "Batches: 100%|██████████| 1/1 [00:00<00:00, 15.04it/s]\n"
     ]
    },
    {
     "name": "stdout",
     "output_type": "stream",
     "text": [
      "Found 0 electronics:\n",
      "\n",
      "Testing price range filter (Under 5,000,000) - Fixed format:\n"
     ]
    },
    {
     "name": "stderr",
     "output_type": "stream",
     "text": [
      "Batches: 100%|██████████| 1/1 [00:00<00:00, 28.38it/s]"
     ]
    },
    {
     "name": "stdout",
     "output_type": "stream",
     "text": [
      "Found 0 products under Rp 5,000,000:"
     ]
    },
    {
     "name": "stderr",
     "output_type": "stream",
     "text": [
      "\n"
     ]
    },
    {
     "name": "stdout",
     "output_type": "stream",
     "text": [
      "\n",
      "\n",
      "Testing multiple filters (Cotton AND price <= 1,000,000):\n"
     ]
    },
    {
     "name": "stderr",
     "output_type": "stream",
     "text": [
      "Batches: 100%|██████████| 1/1 [00:00<00:00, 17.45it/s]\n"
     ]
    },
    {
     "name": "stdout",
     "output_type": "stream",
     "text": [
      "Found 0 cotton products under Rp 1,000,000:\n",
      "\n",
      "Fixed filter testing completed!\n"
     ]
    }
   ],
   "source": [
    "print(\"\\nTesting material filter (Cotton):\")\n",
    "material_filter = {\n",
    "    \"field\": \"material\", \n",
    "    \"operator\": \"==\", \n",
    "    \"value\": \"Cotton\"\n",
    "}\n",
    "\n",
    "result = products_pipeline.run({\n",
    "    \"embedder\": {\"text\": \"clothing\"},\n",
    "    \"retriever\": {\"filters\": material_filter}\n",
    "})\n",
    "\n",
    "documents = result[\"retriever\"][\"documents\"]\n",
    "print(f\"Found {len(documents)} cotton products:\")\n",
    "for doc in documents:\n",
    "    print(f\"- {doc.meta['title']} ({doc.meta['material']})\")\n",
    "\n",
    "### Test Category Filter \n",
    "print(\"\\nTesting category filter (Electronics)\")\n",
    "\n",
    "category_filter = {\n",
    "    \"field\": \"category\",\n",
    "    \"operator\": \"==\",\n",
    "    \"value\": \"Electronics\"\n",
    "}\n",
    "\n",
    "result = products_pipeline.run({\n",
    "    \"embedder\": {\"text\": \"device\"},\n",
    "    \"retriever\": {\"filters\": category_filter}\n",
    "})\n",
    "\n",
    "documents = result[\"retriever\"][\"documents\"]\n",
    "print(f\"Found {len(documents)} electronics:\")\n",
    "for doc in documents:\n",
    "    print(f\"- {doc.meta['title']} ({doc.meta['category']})\")\n",
    "\n",
    "### Test Price Range Filter \n",
    "print(\"\\nTesting price range filter (Under 5,000,000):\")\n",
    "\n",
    "price_filter = {\n",
    "    \"field\": \"price\",  \n",
    "    \"operator\": \"<=\",\n",
    "    \"value\": 5000000\n",
    "}\n",
    "\n",
    "result = products_pipeline.run({\n",
    "    \"embedder\": {\"text\": \"product\"},\n",
    "    \"retriever\": {\"filters\": price_filter}\n",
    "})\n",
    "\n",
    "documents = result[\"retriever\"][\"documents\"]\n",
    "print(f\"Found {len(documents)} products under Rp 5,000,000:\")\n",
    "for doc in documents:\n",
    "    print(f\"- {doc.meta['title']} - Rp {doc.meta['price']:,}\")\n",
    "\n",
    "### Test Multiple Filters (Advanced)\n",
    "print(\"\\nTesting multiple filters (Cotton AND price <= 1,000,000):\")\n",
    "\n",
    "multiple_filters = {\n",
    "    \"operator\": \"AND\",\n",
    "    \"conditions\": [\n",
    "        {\"field\": \"material\", \"operator\": \"==\", \"value\": \"Cotton\"},\n",
    "        {\"field\": \"price\", \"operator\": \"<=\", \"value\": 1000000}\n",
    "    ]\n",
    "}\n",
    "\n",
    "result = products_pipeline.run({\n",
    "    \"embedder\": {\"text\": \"clothing\"},\n",
    "    \"retriever\": {\"filters\": multiple_filters}\n",
    "})\n",
    "\n",
    "documents = result[\"retriever\"][\"documents\"]\n",
    "print(f\"Found {len(documents)} cotton products under Rp 1,000,000:\")\n",
    "for doc in documents:\n",
    "    print(f\"- {doc.meta['title']} - {doc.meta['material']} - Rp {doc.meta['price']:,}\")\n",
    "\n",
    "print(\"\\nfilter testing completed!\")"
   ]
  }
 ],
 "metadata": {
  "kernelspec": {
   "display_name": "smartshopper",
   "language": "python",
   "name": "python3"
  },
  "language_info": {
   "codemirror_mode": {
    "name": "ipython",
    "version": 3
   },
   "file_extension": ".py",
   "mimetype": "text/x-python",
   "name": "python",
   "nbconvert_exporter": "python",
   "pygments_lexer": "ipython3",
   "version": "3.10.18"
  }
 },
 "nbformat": 4,
 "nbformat_minor": 5
}
